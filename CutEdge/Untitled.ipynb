{
 "cells": [
  {
   "cell_type": "code",
   "execution_count": 26,
   "metadata": {},
   "outputs": [
    {
     "name": "stdout",
     "output_type": "stream",
     "text": [
      "[[255 255 255 ... 255 255 255]\n",
      " [255 255 255 ... 255 255 255]\n",
      " [255 255 255 ... 255 255 255]\n",
      " ...\n",
      " [255 255 255 ... 255 255 255]\n",
      " [255 255 255 ... 255 255 255]\n",
      " [255 255 255 ... 255 255 255]]\n",
      "(806, 182, 2458, 2451)\n",
      "15.014226198196411\n"
     ]
    }
   ],
   "source": [
    "import shutil\n",
    "import os\n",
    "import cv2\n",
    "from PIL import Image\n",
    "import datetime\n",
    "import time\n",
    "import sys\n",
    "import numpy as np\n",
    "def change_size(read_file):\n",
    "    starttime = time.time()\n",
    "    image=Image.open(read_file) #读取图片 image_name应该是变量\n",
    "    binary_image = image.convert('L') \n",
    "    \n",
    " \n",
    "    x=binary_image.size[0]\n",
    "    #print(\"高度x=\",x)\n",
    "    y=binary_image.size[1]\n",
    "    #print(\"宽度y=\",y)\n",
    "    im_array = np.array(binary_image)\n",
    "    print(im_array)\n",
    "    \n",
    "    \n",
    "    edges_x=[]\n",
    "    edges_y=[]\n",
    "\n",
    "                \n",
    "    for i in range(x):\n",
    " \n",
    "        for j in range(y):\n",
    " \n",
    "            if im_array[j][i]>127:\n",
    "                continue\n",
    "             # print(\"横坐标\",i)\n",
    "             # print(\"纵坐标\",j)\n",
    "            edges_x.append(i)\n",
    "            edges_y.append(j)\n",
    " \n",
    "    top=min(edges_y)               \n",
    "    bottom=max(edges_y)              \n",
    "                    \n",
    " \n",
    "    left=min(edges_x)             \n",
    "    right=max(edges_x) \n",
    "\n",
    "    width=right-left              \n",
    "    height=bottom-top            \n",
    "    print((left,top,left+width,top+height))\n",
    "    pre1_picture=image.crop((left,top,left+width,top+height))       #图片截取\n",
    "    pre1_picture.show()\n",
    "    endtime = time.time()\n",
    "    print(endtime-starttime)\n",
    "    return pre1_picture   #返回图片数据\n",
    "\n",
    "timenamefolder = str(sys.argv[1])\n",
    "img_list = os.listdir('image/'+timenamefolder+'/')\n",
    "i = 0\n",
    "for img_file in img_list:\n",
    "    shutil.move( 'image/'+timenamefolder+'/'+img_file, './')\n",
    "    img = change_size(img_file)\n",
    "    \n",
    "    img.save(img_file)\n",
    "    shutil.move( img_file, 'image/'+timenamefolder+'/')\n",
    "    #os.remove(img_file)\n",
    "    #print('output'+str(i)+' done!!')\n",
    "    i+=1"
   ]
  },
  {
   "cell_type": "code",
   "execution_count": null,
   "metadata": {},
   "outputs": [],
   "source": []
  }
 ],
 "metadata": {
  "kernelspec": {
   "display_name": "Python 3",
   "language": "python",
   "name": "python3"
  },
  "language_info": {
   "codemirror_mode": {
    "name": "ipython",
    "version": 3
   },
   "file_extension": ".py",
   "mimetype": "text/x-python",
   "name": "python",
   "nbconvert_exporter": "python",
   "pygments_lexer": "ipython3",
   "version": "3.7.1rc1"
  }
 },
 "nbformat": 4,
 "nbformat_minor": 2
}
